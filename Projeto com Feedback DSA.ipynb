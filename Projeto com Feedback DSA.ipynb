{
 "cells": [
  {
   "cell_type": "markdown",
   "id": "25c8ee59",
   "metadata": {},
   "source": [
    "## Detecção de COVID-19 em Imagens de Raio-X\n",
    "\n",
    "### Definição do Projeto\n",
    "\n",
    "A ideia geral da aprendizagem por transferência é usar o conhecimento aprendido em tarefas para as quais muitos dados rotulados estão disponíveis em ambientes onde apenas poucos dados rotulados estão disponíveis. Criar dados rotulados é caro, portanto, aproveitar os conjuntos de dados existentes de maneira ideal é fundamental.\n",
    "\n",
    "Em um modelo de aprendizado de máquina tradicional, o objetivo principal é generalizar para dados invisíveis com base em padrões aprendidos com os dados de \n",
    "treinamento. Com a aprendizagem por transferência, você tenta iniciar esse processo de generalização começando a partir de padrões que foram aprendidos para uma tarefa diferente. Essencialmente, em vez de iniciar o processo de aprendizagem a partir de uma folha em branco (geralmente inicializada aleatoriamente), você começa a partir de padrões que foram aprendidos para resolver uma tarefa diferente. A transferência de conhecimento e padrões é possível em uma ampla variedade de domínios.\n",
    "\n",
    "Neste projeto vamos construir um modelo de IA que ao receber uma imagem será capaz de detectar se há alguma anomalia que indique a presença de COVID. Daremos ênfase ao Transfer Learning e ainda apresentaremos uma nova técnica de tratamento de dados desbalanceados.\n",
    "\n",
    "**Referências:**\n",
    "\n",
    "- <a href=\"https://deepai.org/machine-learning-glossary-and-terms/transfer-learning\">Transfer Learning</a>\n",
    "- <a href=\"https://openreview.net/pdf?id=ryebG04YvB\">ADVERSARIALLY ROBUST TRANSFER LEARNING</a>\n",
    "- <a href=\"https://openreview.net/pdf?id=ryeYpJSKwr\">META-LEARNING ACQUISITION FUNCTIONS FOR TRANSFER LEARNING IN BAYESIAN OPTIMIZATION</a>\n",
    "\n",
    "Fonte de Dados:\n",
    "\n",
    "https://bimcv.cipf.es/bimcv-projects/bimcv-covid19/#1590858128006-9e640421-6711\n"
   ]
  },
  {
   "cell_type": "markdown",
   "id": "f6717711",
   "metadata": {},
   "source": [
    "### Bibliotecas"
   ]
  },
  {
   "cell_type": "code",
   "execution_count": 159,
   "id": "60b212f7",
   "metadata": {},
   "outputs": [],
   "source": [
    "# Imports\n",
    "import os\n",
    "import random\n",
    "import numpy as np\n",
    "import pandas as pd \n",
    "import matplotlib.pyplot as plt\n",
    "import itertools\n",
    "import seaborn as sns\n",
    "import sklearn\n",
    "import tensorflow as tf\n",
    "from glob import glob\n",
    "from distutils.file_util import copy_file\n",
    "from tensorflow.keras.layers import Input, Dense, Flatten\n",
    "from tensorflow.keras.models import Model, Sequential\n",
    "from tensorflow.keras.preprocessing import image\n",
    "from sklearn.model_selection import train_test_split\n",
    "from tensorflow.keras.preprocessing.image import ImageDataGenerator\n",
    "from tensorflow.keras.layers import Dense, Dropout, Flatten\n",
    "from tensorflow.keras.layers import Conv2D, MaxPooling2D, GlobalAveragePooling2D\n",
    "from tensorflow.keras.applications import VGG16\n",
    "from tensorflow.keras.optimizers import Adam\n",
    "from sklearn.metrics import classification_report\n",
    "from tensorflow.keras.callbacks import EarlyStopping, ModelCheckpoint, Callback, ReduceLROnPlateau\n",
    "from sklearn.metrics import classification_report, confusion_matrix\n",
    "from sklearn.metrics import roc_curve, auc\n",
    "from sklearn.metrics import classification_report, roc_auc_score\n",
    "from sklearn.metrics import precision_recall_fscore_support, accuracy_score\n",
    "from sklearn.utils.class_weight import compute_class_weight\n",
    "import warnings\n",
    "warnings.filterwarnings('ignore')"
   ]
  },
  {
   "cell_type": "code",
   "execution_count": 3,
   "id": "ed83a150",
   "metadata": {},
   "outputs": [
    {
     "name": "stdout",
     "output_type": "stream",
     "text": [
      "Author: Júlio Monteiro\n",
      "\n",
      "matplotlib: 3.3.4\n",
      "sklearn   : 1.0.2\n",
      "pandas    : 1.3.5\n",
      "tensorflow: 2.3.1\n",
      "numpy     : 1.21.1\n",
      "seaborn   : 0.11.2\n",
      "\n"
     ]
    }
   ],
   "source": [
    "# Versões dos pacotes usados neste jupyter notebook\n",
    "%reload_ext watermark\n",
    "%watermark -a \"Júlio Monteiro\" --iversions"
   ]
  },
  {
   "cell_type": "code",
   "execution_count": 4,
   "id": "43b391ae",
   "metadata": {},
   "outputs": [
    {
     "name": "stdout",
     "output_type": "stream",
     "text": [
      "Python 3.7.6\r\n"
     ]
    }
   ],
   "source": [
    "# Versão Python usada neste projeto\n",
    "!python --version"
   ]
  },
  {
   "cell_type": "markdown",
   "id": "4e4bca7b",
   "metadata": {},
   "source": [
    "### Preparação dos Dados"
   ]
  },
  {
   "cell_type": "code",
   "execution_count": 5,
   "id": "df087856",
   "metadata": {},
   "outputs": [],
   "source": [
    "# Caminho para as imagens em disco\n",
    "caminho_imagens_covid = '/media/datasets/IAMED/Cap12/COVID-19_Radiography_Dataset/COVID'\n",
    "\n",
    "# Caminho para as imagens em disco\n",
    "caminho_imagens_normal = '/media/datasets/IAMED/Cap12/COVID-19_Radiography_Dataset/Normal'"
   ]
  },
  {
   "cell_type": "code",
   "execution_count": 6,
   "id": "60e3a19c",
   "metadata": {},
   "outputs": [],
   "source": [
    "# Listas\n",
    "lista_imagens_covid = []\n",
    "lista_imagens_normal = []"
   ]
  },
  {
   "cell_type": "code",
   "execution_count": 7,
   "id": "2d80b2d4",
   "metadata": {},
   "outputs": [],
   "source": [
    "# Lista imagens covid\n",
    "for root, directories, files in os.walk(caminho_imagens_covid):\n",
    "    for name in files:\n",
    "        lista_imagens_covid.append(os.path.join(root, name))"
   ]
  },
  {
   "cell_type": "code",
   "execution_count": 8,
   "id": "35aa49c2",
   "metadata": {},
   "outputs": [],
   "source": [
    "# Lista imagens normal\n",
    "for root, directories, files in os.walk(caminho_imagens_normal):\n",
    "    for name in files:\n",
    "        lista_imagens_normal.append(os.path.join(root, name))"
   ]
  },
  {
   "cell_type": "code",
   "execution_count": 9,
   "id": "5cf47257",
   "metadata": {},
   "outputs": [],
   "source": [
    "# Shuffle das imagens\n",
    "random.shuffle(lista_imagens_covid)\n",
    "random.shuffle(lista_imagens_normal)"
   ]
  },
  {
   "cell_type": "code",
   "execution_count": 10,
   "id": "77b7b6cf",
   "metadata": {},
   "outputs": [
    {
     "name": "stdout",
     "output_type": "stream",
     "text": [
      "Quantidade de imagens com COVID-19: 3616\n",
      "Quantidade de imagens Normais: 10192\n"
     ]
    }
   ],
   "source": [
    "# Total de imagens\n",
    "print(\"Quantidade de imagens com COVID-19:\", len(lista_imagens_covid))\n",
    "print(\"Quantidade de imagens Normais:\", len(lista_imagens_normal))"
   ]
  },
  {
   "cell_type": "markdown",
   "id": "fbfd7e0e",
   "metadata": {},
   "source": [
    "##### COVID19"
   ]
  },
  {
   "cell_type": "code",
   "execution_count": 15,
   "id": "22370520",
   "metadata": {},
   "outputs": [],
   "source": [
    "# Divide os dados em treino e teste\n",
    "X_treino_covid, X_teste_covid = train_test_split(lista_imagens_covid, test_size = 0.10, random_state = 42)"
   ]
  },
  {
   "cell_type": "code",
   "execution_count": 16,
   "id": "9749b527",
   "metadata": {},
   "outputs": [],
   "source": [
    "# Divide os dados em treino e validação\n",
    "X_treino_covid, X_valid_covid = train_test_split(X_treino_covid, test_size = 0.2, random_state = 42)"
   ]
  },
  {
   "cell_type": "code",
   "execution_count": 17,
   "id": "1c66c9d0",
   "metadata": {},
   "outputs": [
    {
     "name": "stdout",
     "output_type": "stream",
     "text": [
      "Quantidade de imagens em treinamento: 2603\n",
      "Quantidade de imagens em validação: 651\n",
      "Quantidade de imagens em teste: 362\n"
     ]
    }
   ],
   "source": [
    "# Total de imagens de COVID\n",
    "print(\"Quantidade de imagens em treinamento:\", len(X_treino_covid))\n",
    "print(\"Quantidade de imagens em validação:\", len(X_valid_covid))\n",
    "print(\"Quantidade de imagens em teste:\", len(X_teste_covid))"
   ]
  },
  {
   "cell_type": "markdown",
   "id": "bfd15f46",
   "metadata": {},
   "source": [
    "##### Normais"
   ]
  },
  {
   "cell_type": "code",
   "execution_count": 19,
   "id": "d20de628",
   "metadata": {},
   "outputs": [],
   "source": [
    "# Divide os dados em treino e teste com Downsampling nos dados de treinamento para balancear as imagens de ambas as classes\n",
    "X_treino_normal, X_teste_normal = train_test_split(lista_imagens_normal[0:3616], test_size = 0.10, random_state = 42)"
   ]
  },
  {
   "cell_type": "code",
   "execution_count": 20,
   "id": "058a7316",
   "metadata": {},
   "outputs": [],
   "source": [
    "# Divide os dados em treino e validação\n",
    "X_treino_normal, X_valid_normal = train_test_split(X_treino_normal, test_size = 0.2, random_state = 42)"
   ]
  },
  {
   "cell_type": "code",
   "execution_count": 21,
   "id": "70005bda",
   "metadata": {},
   "outputs": [
    {
     "name": "stdout",
     "output_type": "stream",
     "text": [
      "Quantidade de imagens em treinamento: 2603\n",
      "Quantidade de imagens em validação: 651\n",
      "Quantidade de imagens em teste: 362\n"
     ]
    }
   ],
   "source": [
    "# Total de imagens de COVID\n",
    "print(\"Quantidade de imagens em treinamento:\", len(X_treino_normal))\n",
    "print(\"Quantidade de imagens em validação:\", len(X_valid_normal))\n",
    "print(\"Quantidade de imagens em teste:\", len(X_teste_normal))"
   ]
  },
  {
   "cell_type": "markdown",
   "id": "33e3f56b",
   "metadata": {},
   "source": [
    "#### Preparação das pastas para receber as imagens separadas por label."
   ]
  },
  {
   "cell_type": "code",
   "execution_count": 22,
   "id": "f20da4f8",
   "metadata": {},
   "outputs": [],
   "source": [
    "# Pasta raiz\n",
    "!mkdir ./dados/"
   ]
  },
  {
   "cell_type": "code",
   "execution_count": 23,
   "id": "0bbf0c5f",
   "metadata": {},
   "outputs": [],
   "source": [
    "# Pastas para os dados de treino\n",
    "!mkdir ./dados/treino/\n",
    "!mkdir ./dados/treino/Covid/\n",
    "!mkdir ./dados/treino/Normal/\n",
    "\n",
    "# Pastas para os dados de teste\n",
    "!mkdir ./dados/teste/\n",
    "!mkdir ./dados/teste/Covid/\n",
    "!mkdir ./dados/teste/Normal/\n",
    "\n",
    "# Pastas para os dados de validação\n",
    "!mkdir ./dados/valid/\n",
    "!mkdir ./dados/valid/Covid/\n",
    "!mkdir ./dados/valid/Normal/"
   ]
  },
  {
   "cell_type": "markdown",
   "id": "d7a1f51f",
   "metadata": {},
   "source": [
    "#### Movendo as imagens para suas respectivas pastas."
   ]
  },
  {
   "cell_type": "code",
   "execution_count": 24,
   "id": "e98fdbb8",
   "metadata": {},
   "outputs": [],
   "source": [
    "# Pastas para as imagens covid\n",
    "caminho_covid_treino = './dados/treino/Covid/'\n",
    "caminho_covid_teste = './dados/teste/Covid/'\n",
    "caminho_covid_valid = './dados/valid/Covid/'\n",
    "\n",
    "# Pastas para as imagens normal\n",
    "caminho_normal_treino = './dados/treino/Normal/'\n",
    "caminho_normal_teste = './dados/teste/Normal/'\n",
    "caminho_normal_valid = './dados/valid/Normal/'"
   ]
  },
  {
   "cell_type": "code",
   "execution_count": 25,
   "id": "3e656df0",
   "metadata": {},
   "outputs": [],
   "source": [
    "# Movendo as imagens covid\n",
    "for i in range(2603):\n",
    "    copy_file(lista_imagens_covid[i], caminho_covid_treino)\n",
    "for i in range(651):\n",
    "    copy_file(lista_imagens_covid[i], caminho_covid_valid)\n",
    "for i in range(362):\n",
    "    copy_file(lista_imagens_covid[i], caminho_covid_teste)"
   ]
  },
  {
   "cell_type": "code",
   "execution_count": 26,
   "id": "0c4a84d0",
   "metadata": {},
   "outputs": [],
   "source": [
    "# Movendo as imagens normal\n",
    "for i in range(2603):\n",
    "    copy_file(lista_imagens_normal[i], caminho_normal_treino)\n",
    "for i in range(651):\n",
    "    copy_file(lista_imagens_normal[i], caminho_normal_valid)     \n",
    "for i in range(362):\n",
    "    copy_file(lista_imagens_normal[i], caminho_normal_teste)       "
   ]
  },
  {
   "cell_type": "markdown",
   "id": "fe7ef648",
   "metadata": {},
   "source": [
    "### Dataset Augmentation"
   ]
  },
  {
   "cell_type": "code",
   "execution_count": 109,
   "id": "e91b0cfd",
   "metadata": {},
   "outputs": [],
   "source": [
    "# Gerador dados de treino\n",
    "gen_data_treino = ImageDataGenerator(rescale = 1./255,\n",
    "                                     zoom_range = 0.3, \n",
    "                                     horizontal_flip = True, \n",
    "                                     shear_range = 0.2,\n",
    "                                     rotation_range = 30)"
   ]
  },
  {
   "cell_type": "code",
   "execution_count": 113,
   "id": "44bb0b82",
   "metadata": {},
   "outputs": [
    {
     "name": "stdout",
     "output_type": "stream",
     "text": [
      "Found 5206 images belonging to 2 classes.\n"
     ]
    }
   ],
   "source": [
    "# Gera dados de treino\n",
    "dados_treino = gen_data_treino.flow_from_directory(directory = './dados/treino',\n",
    "                                                   class_mode = 'categorical',\n",
    "                                                   batch_size = 8,\n",
    "                                                   target_size = (224,224))"
   ]
  },
  {
   "cell_type": "code",
   "execution_count": 114,
   "id": "89ec2de6",
   "metadata": {},
   "outputs": [],
   "source": [
    "# Gerador dados de teste\n",
    "gen_data_teste = ImageDataGenerator(rescale = 1./255)"
   ]
  },
  {
   "cell_type": "code",
   "execution_count": 115,
   "id": "9cd94fc6",
   "metadata": {},
   "outputs": [
    {
     "name": "stdout",
     "output_type": "stream",
     "text": [
      "Found 724 images belonging to 2 classes.\n"
     ]
    }
   ],
   "source": [
    "# Gera dados de teste\n",
    "dados_teste = gen_data_teste.flow_from_directory(directory = './dados/teste' , \n",
    "                                                 target_size = (224,244), \n",
    "                                                 class_mode = 'categorical',\n",
    "                                                 shuffle = False,\n",
    "                                                 batch_size = 1)"
   ]
  },
  {
   "cell_type": "code",
   "execution_count": 116,
   "id": "29a6a425",
   "metadata": {},
   "outputs": [
    {
     "name": "stdout",
     "output_type": "stream",
     "text": [
      "Found 1302 images belonging to 2 classes.\n"
     ]
    }
   ],
   "source": [
    "# Gera dados de validação\n",
    "dados_valid = gen_data_teste.flow_from_directory(directory = './dados/valid' , \n",
    "                                                 target_size = (224,224), \n",
    "                                                 class_mode = 'categorical',\n",
    "                                                 shuffle = False,\n",
    "                                                 batch_size = 8)"
   ]
  },
  {
   "cell_type": "code",
   "execution_count": 117,
   "id": "f74e95bf",
   "metadata": {},
   "outputs": [],
   "source": [
    "# Aqui definimos o número de passos\n",
    "passos_treino = np.ceil(5206/8)\n",
    "passos_val = np.ceil(1302/8)"
   ]
  },
  {
   "cell_type": "markdown",
   "id": "0299244d",
   "metadata": {},
   "source": [
    "### Modelagem - Transfer Learning"
   ]
  },
  {
   "cell_type": "code",
   "execution_count": 128,
   "id": "59a67082",
   "metadata": {},
   "outputs": [],
   "source": [
    "# Importa o modelo base\n",
    "modelo_base = VGG16(include_top = False, \n",
    "                                weights = 'imagenet',\n",
    "                                input_shape = (224,224,3))"
   ]
  },
  {
   "cell_type": "code",
   "execution_count": 129,
   "id": "d7fc161d",
   "metadata": {},
   "outputs": [
    {
     "name": "stdout",
     "output_type": "stream",
     "text": [
      "Model: \"vgg16\"\n",
      "_________________________________________________________________\n",
      "Layer (type)                 Output Shape              Param #   \n",
      "=================================================================\n",
      "input_5 (InputLayer)         [(None, 224, 224, 3)]     0         \n",
      "_________________________________________________________________\n",
      "block1_conv1 (Conv2D)        (None, 224, 224, 64)      1792      \n",
      "_________________________________________________________________\n",
      "block1_conv2 (Conv2D)        (None, 224, 224, 64)      36928     \n",
      "_________________________________________________________________\n",
      "block1_pool (MaxPooling2D)   (None, 112, 112, 64)      0         \n",
      "_________________________________________________________________\n",
      "block2_conv1 (Conv2D)        (None, 112, 112, 128)     73856     \n",
      "_________________________________________________________________\n",
      "block2_conv2 (Conv2D)        (None, 112, 112, 128)     147584    \n",
      "_________________________________________________________________\n",
      "block2_pool (MaxPooling2D)   (None, 56, 56, 128)       0         \n",
      "_________________________________________________________________\n",
      "block3_conv1 (Conv2D)        (None, 56, 56, 256)       295168    \n",
      "_________________________________________________________________\n",
      "block3_conv2 (Conv2D)        (None, 56, 56, 256)       590080    \n",
      "_________________________________________________________________\n",
      "block3_conv3 (Conv2D)        (None, 56, 56, 256)       590080    \n",
      "_________________________________________________________________\n",
      "block3_pool (MaxPooling2D)   (None, 28, 28, 256)       0         \n",
      "_________________________________________________________________\n",
      "block4_conv1 (Conv2D)        (None, 28, 28, 512)       1180160   \n",
      "_________________________________________________________________\n",
      "block4_conv2 (Conv2D)        (None, 28, 28, 512)       2359808   \n",
      "_________________________________________________________________\n",
      "block4_conv3 (Conv2D)        (None, 28, 28, 512)       2359808   \n",
      "_________________________________________________________________\n",
      "block4_pool (MaxPooling2D)   (None, 14, 14, 512)       0         \n",
      "_________________________________________________________________\n",
      "block5_conv1 (Conv2D)        (None, 14, 14, 512)       2359808   \n",
      "_________________________________________________________________\n",
      "block5_conv2 (Conv2D)        (None, 14, 14, 512)       2359808   \n",
      "_________________________________________________________________\n",
      "block5_conv3 (Conv2D)        (None, 14, 14, 512)       2359808   \n",
      "_________________________________________________________________\n",
      "block5_pool (MaxPooling2D)   (None, 7, 7, 512)         0         \n",
      "=================================================================\n",
      "Total params: 14,714,688\n",
      "Trainable params: 14,714,688\n",
      "Non-trainable params: 0\n",
      "_________________________________________________________________\n"
     ]
    }
   ],
   "source": [
    "# Sumário do modelo base\n",
    "modelo_base.summary()"
   ]
  },
  {
   "cell_type": "code",
   "execution_count": 130,
   "id": "3fbd950d",
   "metadata": {},
   "outputs": [],
   "source": [
    "# Adicionamos nossas camadas ao modelo_base\n",
    "\n",
    "# Cria a sequência de camadas\n",
    "add_model = Sequential()\n",
    "\n",
    "# Adiciona primeiro o modelo base\n",
    "add_model.add(modelo_base)\n",
    "\n",
    "# Precisamos de uma camada global de Pooling\n",
    "add_model.add(GlobalAveragePooling2D())\n",
    "\n",
    "# Dropout para regularização e evitar overfitting\n",
    "add_model.add(Dropout(0.2))\n",
    "\n",
    "# 1º Camada densa\n",
    "add_model.add(Dense(8, activation = 'relu'))\n",
    "add_model.add(Dropout(0.2))\n",
    "\n",
    "# Camada de saida com ativação softmax para previsão das probabilidades das classes\n",
    "add_model.add(Dense(2, activation = 'softmax'))"
   ]
  },
  {
   "cell_type": "code",
   "execution_count": 131,
   "id": "bf1eaff4",
   "metadata": {},
   "outputs": [],
   "source": [
    "# Cria o modelo final\n",
    "modelo_final = add_model"
   ]
  },
  {
   "cell_type": "code",
   "execution_count": 132,
   "id": "ffd99812",
   "metadata": {},
   "outputs": [
    {
     "name": "stdout",
     "output_type": "stream",
     "text": [
      "Model: \"sequential_4\"\n",
      "_________________________________________________________________\n",
      "Layer (type)                 Output Shape              Param #   \n",
      "=================================================================\n",
      "vgg16 (Functional)           (None, 7, 7, 512)         14714688  \n",
      "_________________________________________________________________\n",
      "global_average_pooling2d_4 ( (None, 512)               0         \n",
      "_________________________________________________________________\n",
      "dropout_8 (Dropout)          (None, 512)               0         \n",
      "_________________________________________________________________\n",
      "dense_8 (Dense)              (None, 8)                 4104      \n",
      "_________________________________________________________________\n",
      "dropout_9 (Dropout)          (None, 8)                 0         \n",
      "_________________________________________________________________\n",
      "dense_9 (Dense)              (None, 2)                 18        \n",
      "=================================================================\n",
      "Total params: 14,718,810\n",
      "Trainable params: 14,718,810\n",
      "Non-trainable params: 0\n",
      "_________________________________________________________________\n"
     ]
    }
   ],
   "source": [
    "# Sumário do modelo final\n",
    "modelo_final.summary()"
   ]
  },
  {
   "cell_type": "markdown",
   "id": "951fc361",
   "metadata": {},
   "source": [
    "#### Compilação"
   ]
  },
  {
   "cell_type": "code",
   "execution_count": 133,
   "id": "77101425",
   "metadata": {},
   "outputs": [],
   "source": [
    "# Cria o otimizador\n",
    "otimizador = Adam(lr = 0.000001)\n",
    "\n",
    "# Compilação do modelo\n",
    "modelo_final.compile(optimizer = otimizador, \n",
    "              loss = 'categorical_crossentropy', \n",
    "              metrics = ['accuracy'])"
   ]
  },
  {
   "cell_type": "markdown",
   "id": "ffdd159e",
   "metadata": {},
   "source": [
    "#### Callbacks"
   ]
  },
  {
   "cell_type": "code",
   "execution_count": 134,
   "id": "61d311d9",
   "metadata": {},
   "outputs": [],
   "source": [
    "checkpoint = tf.keras.callbacks.ModelCheckpoint(filepath='modelos/raiox_model.h5',                                                              \n",
    "                                                               monitor='val_loss',\n",
    "                                                               verbose = 1,\n",
    "                                                               mode='min',\n",
    "                                                               save_best_only=True)"
   ]
  },
  {
   "cell_type": "code",
   "execution_count": 135,
   "id": "9622c522",
   "metadata": {},
   "outputs": [],
   "source": [
    "reduce = tf.keras.callbacks.ReduceLROnPlateau(monitor=\"val_loss\",\n",
    "                                              factor=0.1,\n",
    "                                              verbose = 1,\n",
    "                                              patience=15,                                              \n",
    "                                              mode=\"min\",\n",
    "                                              min_lr=0.0000001) "
   ]
  },
  {
   "cell_type": "code",
   "execution_count": 136,
   "id": "ff15b0d3",
   "metadata": {},
   "outputs": [],
   "source": [
    "# Lista de callbacks\n",
    "lista_callbacks = [checkpoint,reduce]"
   ]
  },
  {
   "cell_type": "markdown",
   "id": "e34da858",
   "metadata": {},
   "source": [
    "### Treinamento do Modelo"
   ]
  },
  {
   "cell_type": "code",
   "execution_count": 137,
   "id": "8d9b9458",
   "metadata": {},
   "outputs": [
    {
     "name": "stdout",
     "output_type": "stream",
     "text": [
      "Epoch 1/100\n",
      "651/651 [==============================] - ETA: 0s - loss: 0.6585 - accuracy: 0.6343\n",
      "Epoch 00001: val_loss improved from inf to 0.61114, saving model to modelos/raiox_model.h5\n",
      "651/651 [==============================] - 56s 86ms/step - loss: 0.6585 - accuracy: 0.6343 - val_loss: 0.6111 - val_accuracy: 0.7227\n",
      "Epoch 2/100\n",
      "651/651 [==============================] - ETA: 0s - loss: 0.5577 - accuracy: 0.7482\n",
      "Epoch 00002: val_loss improved from 0.61114 to 0.51721, saving model to modelos/raiox_model.h5\n",
      "651/651 [==============================] - 56s 85ms/step - loss: 0.5577 - accuracy: 0.7482 - val_loss: 0.5172 - val_accuracy: 0.7473\n",
      "Epoch 3/100\n",
      "651/651 [==============================] - ETA: 0s - loss: 0.4525 - accuracy: 0.7939\n",
      "Epoch 00003: val_loss improved from 0.51721 to 0.40767, saving model to modelos/raiox_model.h5\n",
      "651/651 [==============================] - 56s 86ms/step - loss: 0.4525 - accuracy: 0.7939 - val_loss: 0.4077 - val_accuracy: 0.8195\n",
      "Epoch 4/100\n",
      "651/651 [==============================] - ETA: 0s - loss: 0.4024 - accuracy: 0.8219\n",
      "Epoch 00004: val_loss improved from 0.40767 to 0.30583, saving model to modelos/raiox_model.h5\n",
      "651/651 [==============================] - 56s 86ms/step - loss: 0.4024 - accuracy: 0.8219 - val_loss: 0.3058 - val_accuracy: 0.8825\n",
      "Epoch 5/100\n",
      "651/651 [==============================] - ETA: 0s - loss: 0.3598 - accuracy: 0.8406\n",
      "Epoch 00005: val_loss improved from 0.30583 to 0.29027, saving model to modelos/raiox_model.h5\n",
      "651/651 [==============================] - 56s 86ms/step - loss: 0.3598 - accuracy: 0.8406 - val_loss: 0.2903 - val_accuracy: 0.8817\n",
      "Epoch 6/100\n",
      "651/651 [==============================] - ETA: 0s - loss: 0.3400 - accuracy: 0.8602\n",
      "Epoch 00006: val_loss did not improve from 0.29027\n",
      "651/651 [==============================] - 55s 85ms/step - loss: 0.3400 - accuracy: 0.8602 - val_loss: 0.3004 - val_accuracy: 0.8886\n",
      "Epoch 7/100\n",
      "651/651 [==============================] - ETA: 0s - loss: 0.3162 - accuracy: 0.8701\n",
      "Epoch 00007: val_loss improved from 0.29027 to 0.24504, saving model to modelos/raiox_model.h5\n",
      "651/651 [==============================] - 56s 86ms/step - loss: 0.3162 - accuracy: 0.8701 - val_loss: 0.2450 - val_accuracy: 0.9101\n",
      "Epoch 8/100\n",
      "651/651 [==============================] - ETA: 0s - loss: 0.3027 - accuracy: 0.8711\n",
      "Epoch 00008: val_loss improved from 0.24504 to 0.22330, saving model to modelos/raiox_model.h5\n",
      "651/651 [==============================] - 56s 86ms/step - loss: 0.3027 - accuracy: 0.8711 - val_loss: 0.2233 - val_accuracy: 0.9263\n",
      "Epoch 9/100\n",
      "651/651 [==============================] - ETA: 0s - loss: 0.2932 - accuracy: 0.8738\n",
      "Epoch 00009: val_loss improved from 0.22330 to 0.21221, saving model to modelos/raiox_model.h5\n",
      "651/651 [==============================] - 57s 87ms/step - loss: 0.2932 - accuracy: 0.8738 - val_loss: 0.2122 - val_accuracy: 0.9186\n",
      "Epoch 10/100\n",
      "651/651 [==============================] - ETA: 0s - loss: 0.2779 - accuracy: 0.8896\n",
      "Epoch 00010: val_loss improved from 0.21221 to 0.19904, saving model to modelos/raiox_model.h5\n",
      "651/651 [==============================] - 55s 85ms/step - loss: 0.2779 - accuracy: 0.8896 - val_loss: 0.1990 - val_accuracy: 0.9286\n",
      "Epoch 11/100\n",
      "651/651 [==============================] - ETA: 0s - loss: 0.2677 - accuracy: 0.8928\n",
      "Epoch 00011: val_loss improved from 0.19904 to 0.18759, saving model to modelos/raiox_model.h5\n",
      "651/651 [==============================] - 56s 86ms/step - loss: 0.2677 - accuracy: 0.8928 - val_loss: 0.1876 - val_accuracy: 0.9347\n",
      "Epoch 12/100\n",
      "651/651 [==============================] - ETA: 0s - loss: 0.2570 - accuracy: 0.8970\n",
      "Epoch 00012: val_loss did not improve from 0.18759\n",
      "651/651 [==============================] - 55s 85ms/step - loss: 0.2570 - accuracy: 0.8970 - val_loss: 0.2032 - val_accuracy: 0.9286\n",
      "Epoch 13/100\n",
      "651/651 [==============================] - ETA: 0s - loss: 0.2537 - accuracy: 0.8995\n",
      "Epoch 00013: val_loss did not improve from 0.18759\n",
      "651/651 [==============================] - 55s 84ms/step - loss: 0.2537 - accuracy: 0.8995 - val_loss: 0.2384 - val_accuracy: 0.9109\n",
      "Epoch 14/100\n",
      "651/651 [==============================] - ETA: 0s - loss: 0.2494 - accuracy: 0.9022\n",
      "Epoch 00014: val_loss improved from 0.18759 to 0.17372, saving model to modelos/raiox_model.h5\n",
      "651/651 [==============================] - 56s 86ms/step - loss: 0.2494 - accuracy: 0.9022 - val_loss: 0.1737 - val_accuracy: 0.9416\n",
      "Epoch 15/100\n",
      "651/651 [==============================] - ETA: 0s - loss: 0.2419 - accuracy: 0.9038\n",
      "Epoch 00015: val_loss improved from 0.17372 to 0.15401, saving model to modelos/raiox_model.h5\n",
      "651/651 [==============================] - 56s 86ms/step - loss: 0.2419 - accuracy: 0.9038 - val_loss: 0.1540 - val_accuracy: 0.9539\n",
      "Epoch 16/100\n",
      "651/651 [==============================] - ETA: 0s - loss: 0.2286 - accuracy: 0.9090\n",
      "Epoch 00016: val_loss improved from 0.15401 to 0.14976, saving model to modelos/raiox_model.h5\n",
      "651/651 [==============================] - 56s 86ms/step - loss: 0.2286 - accuracy: 0.9090 - val_loss: 0.1498 - val_accuracy: 0.9501\n",
      "Epoch 17/100\n",
      "651/651 [==============================] - ETA: 0s - loss: 0.2220 - accuracy: 0.9161\n",
      "Epoch 00017: val_loss did not improve from 0.14976\n",
      "651/651 [==============================] - 55s 85ms/step - loss: 0.2220 - accuracy: 0.9161 - val_loss: 0.1590 - val_accuracy: 0.9555\n",
      "Epoch 18/100\n",
      "651/651 [==============================] - ETA: 0s - loss: 0.2100 - accuracy: 0.9203\n",
      "Epoch 00018: val_loss improved from 0.14976 to 0.14835, saving model to modelos/raiox_model.h5\n",
      "651/651 [==============================] - 56s 86ms/step - loss: 0.2100 - accuracy: 0.9203 - val_loss: 0.1484 - val_accuracy: 0.9539\n",
      "Epoch 19/100\n",
      "651/651 [==============================] - ETA: 0s - loss: 0.2144 - accuracy: 0.9220\n",
      "Epoch 00019: val_loss improved from 0.14835 to 0.13298, saving model to modelos/raiox_model.h5\n",
      "651/651 [==============================] - 56s 86ms/step - loss: 0.2144 - accuracy: 0.9220 - val_loss: 0.1330 - val_accuracy: 0.9585\n",
      "Epoch 20/100\n",
      "651/651 [==============================] - ETA: 0s - loss: 0.2084 - accuracy: 0.9193\n",
      "Epoch 00020: val_loss improved from 0.13298 to 0.12360, saving model to modelos/raiox_model.h5\n",
      "651/651 [==============================] - 56s 86ms/step - loss: 0.2084 - accuracy: 0.9193 - val_loss: 0.1236 - val_accuracy: 0.9624\n",
      "Epoch 21/100\n",
      "651/651 [==============================] - ETA: 0s - loss: 0.2034 - accuracy: 0.9260\n",
      "Epoch 00021: val_loss did not improve from 0.12360\n",
      "651/651 [==============================] - 55s 84ms/step - loss: 0.2034 - accuracy: 0.9260 - val_loss: 0.1263 - val_accuracy: 0.9624\n",
      "Epoch 22/100\n",
      "651/651 [==============================] - ETA: 0s - loss: 0.1951 - accuracy: 0.9326\n",
      "Epoch 00022: val_loss did not improve from 0.12360\n",
      "651/651 [==============================] - 55s 84ms/step - loss: 0.1951 - accuracy: 0.9326 - val_loss: 0.1373 - val_accuracy: 0.9485\n",
      "Epoch 23/100\n",
      "651/651 [==============================] - ETA: 0s - loss: 0.1890 - accuracy: 0.9253\n",
      "Epoch 00023: val_loss did not improve from 0.12360\n",
      "651/651 [==============================] - 56s 86ms/step - loss: 0.1890 - accuracy: 0.9253 - val_loss: 0.1359 - val_accuracy: 0.9455\n",
      "Epoch 24/100\n",
      "651/651 [==============================] - ETA: 0s - loss: 0.1811 - accuracy: 0.9333\n",
      "Epoch 00024: val_loss did not improve from 0.12360\n",
      "651/651 [==============================] - 55s 85ms/step - loss: 0.1811 - accuracy: 0.9333 - val_loss: 0.1305 - val_accuracy: 0.9485\n",
      "Epoch 25/100\n",
      "651/651 [==============================] - ETA: 0s - loss: 0.1986 - accuracy: 0.9276\n",
      "Epoch 00025: val_loss did not improve from 0.12360\n",
      "651/651 [==============================] - 55s 85ms/step - loss: 0.1986 - accuracy: 0.9276 - val_loss: 0.1507 - val_accuracy: 0.9470\n",
      "Epoch 26/100\n",
      "651/651 [==============================] - ETA: 0s - loss: 0.1798 - accuracy: 0.9345\n",
      "Epoch 00026: val_loss improved from 0.12360 to 0.11575, saving model to modelos/raiox_model.h5\n",
      "651/651 [==============================] - 55s 85ms/step - loss: 0.1798 - accuracy: 0.9345 - val_loss: 0.1157 - val_accuracy: 0.9585\n",
      "Epoch 27/100\n",
      "651/651 [==============================] - ETA: 0s - loss: 0.1756 - accuracy: 0.9403\n",
      "Epoch 00027: val_loss improved from 0.11575 to 0.10913, saving model to modelos/raiox_model.h5\n"
     ]
    },
    {
     "name": "stdout",
     "output_type": "stream",
     "text": [
      "651/651 [==============================] - 55s 85ms/step - loss: 0.1756 - accuracy: 0.9403 - val_loss: 0.1091 - val_accuracy: 0.9570\n",
      "Epoch 28/100\n",
      "651/651 [==============================] - ETA: 0s - loss: 0.1638 - accuracy: 0.9447\n",
      "Epoch 00028: val_loss did not improve from 0.10913\n",
      "651/651 [==============================] - 56s 85ms/step - loss: 0.1638 - accuracy: 0.9447 - val_loss: 0.3058 - val_accuracy: 0.8725\n",
      "Epoch 29/100\n",
      "651/651 [==============================] - ETA: 0s - loss: 0.1734 - accuracy: 0.9414\n",
      "Epoch 00029: val_loss improved from 0.10913 to 0.09709, saving model to modelos/raiox_model.h5\n",
      "651/651 [==============================] - 56s 86ms/step - loss: 0.1734 - accuracy: 0.9414 - val_loss: 0.0971 - val_accuracy: 0.9724\n",
      "Epoch 30/100\n",
      "651/651 [==============================] - ETA: 0s - loss: 0.1579 - accuracy: 0.9443\n",
      "Epoch 00030: val_loss did not improve from 0.09709\n",
      "651/651 [==============================] - 55s 85ms/step - loss: 0.1579 - accuracy: 0.9443 - val_loss: 0.1187 - val_accuracy: 0.9531\n",
      "Epoch 31/100\n",
      "651/651 [==============================] - ETA: 0s - loss: 0.1660 - accuracy: 0.9426\n",
      "Epoch 00031: val_loss did not improve from 0.09709\n",
      "651/651 [==============================] - 55s 84ms/step - loss: 0.1660 - accuracy: 0.9426 - val_loss: 0.1216 - val_accuracy: 0.9462\n",
      "Epoch 32/100\n",
      "651/651 [==============================] - ETA: 0s - loss: 0.1598 - accuracy: 0.9406\n",
      "Epoch 00032: val_loss did not improve from 0.09709\n",
      "651/651 [==============================] - 55s 84ms/step - loss: 0.1598 - accuracy: 0.9406 - val_loss: 0.1045 - val_accuracy: 0.9593\n",
      "Epoch 33/100\n",
      "651/651 [==============================] - ETA: 0s - loss: 0.1505 - accuracy: 0.9483\n",
      "Epoch 00033: val_loss improved from 0.09709 to 0.08524, saving model to modelos/raiox_model.h5\n",
      "651/651 [==============================] - 56s 86ms/step - loss: 0.1505 - accuracy: 0.9483 - val_loss: 0.0852 - val_accuracy: 0.9731\n",
      "Epoch 34/100\n",
      "651/651 [==============================] - ETA: 0s - loss: 0.1516 - accuracy: 0.9470\n",
      "Epoch 00034: val_loss did not improve from 0.08524\n",
      "651/651 [==============================] - 56s 85ms/step - loss: 0.1516 - accuracy: 0.9470 - val_loss: 0.0971 - val_accuracy: 0.9654\n",
      "Epoch 35/100\n",
      "651/651 [==============================] - ETA: 0s - loss: 0.1570 - accuracy: 0.9437\n",
      "Epoch 00035: val_loss did not improve from 0.08524\n",
      "651/651 [==============================] - 56s 85ms/step - loss: 0.1570 - accuracy: 0.9437 - val_loss: 0.0873 - val_accuracy: 0.9685\n",
      "Epoch 36/100\n",
      "651/651 [==============================] - ETA: 0s - loss: 0.1521 - accuracy: 0.9476\n",
      "Epoch 00036: val_loss did not improve from 0.08524\n",
      "651/651 [==============================] - 55s 85ms/step - loss: 0.1521 - accuracy: 0.9476 - val_loss: 0.1030 - val_accuracy: 0.9570\n",
      "Epoch 37/100\n",
      "651/651 [==============================] - ETA: 0s - loss: 0.1479 - accuracy: 0.9497\n",
      "Epoch 00037: val_loss did not improve from 0.08524\n",
      "651/651 [==============================] - 55s 85ms/step - loss: 0.1479 - accuracy: 0.9497 - val_loss: 0.0867 - val_accuracy: 0.9685\n",
      "Epoch 38/100\n",
      "651/651 [==============================] - ETA: 0s - loss: 0.1500 - accuracy: 0.9499\n",
      "Epoch 00038: val_loss did not improve from 0.08524\n",
      "651/651 [==============================] - 56s 85ms/step - loss: 0.1500 - accuracy: 0.9499 - val_loss: 0.0960 - val_accuracy: 0.9647\n",
      "Epoch 39/100\n",
      "651/651 [==============================] - ETA: 0s - loss: 0.1392 - accuracy: 0.9543\n",
      "Epoch 00039: val_loss did not improve from 0.08524\n",
      "651/651 [==============================] - 55s 85ms/step - loss: 0.1392 - accuracy: 0.9543 - val_loss: 0.1091 - val_accuracy: 0.9539\n",
      "Epoch 40/100\n",
      "651/651 [==============================] - ETA: 0s - loss: 0.1396 - accuracy: 0.9549\n",
      "Epoch 00040: val_loss improved from 0.08524 to 0.07398, saving model to modelos/raiox_model.h5\n",
      "651/651 [==============================] - 56s 86ms/step - loss: 0.1396 - accuracy: 0.9549 - val_loss: 0.0740 - val_accuracy: 0.9754\n",
      "Epoch 41/100\n",
      "651/651 [==============================] - ETA: 0s - loss: 0.1449 - accuracy: 0.9489\n",
      "Epoch 00041: val_loss did not improve from 0.07398\n",
      "651/651 [==============================] - 56s 85ms/step - loss: 0.1449 - accuracy: 0.9489 - val_loss: 0.1564 - val_accuracy: 0.9332\n",
      "Epoch 42/100\n",
      "651/651 [==============================] - ETA: 0s - loss: 0.1298 - accuracy: 0.9581\n",
      "Epoch 00042: val_loss did not improve from 0.07398\n",
      "651/651 [==============================] - 56s 86ms/step - loss: 0.1298 - accuracy: 0.9581 - val_loss: 0.0812 - val_accuracy: 0.9708\n",
      "Epoch 43/100\n",
      "651/651 [==============================] - ETA: 0s - loss: 0.1254 - accuracy: 0.9556\n",
      "Epoch 00043: val_loss did not improve from 0.07398\n",
      "651/651 [==============================] - 56s 85ms/step - loss: 0.1254 - accuracy: 0.9556 - val_loss: 0.0885 - val_accuracy: 0.9639\n",
      "Epoch 44/100\n",
      "651/651 [==============================] - ETA: 0s - loss: 0.1375 - accuracy: 0.9506\n",
      "Epoch 00044: val_loss did not improve from 0.07398\n",
      "651/651 [==============================] - 55s 85ms/step - loss: 0.1375 - accuracy: 0.9506 - val_loss: 0.0766 - val_accuracy: 0.9724\n",
      "Epoch 45/100\n",
      "651/651 [==============================] - ETA: 0s - loss: 0.1292 - accuracy: 0.9539\n",
      "Epoch 00045: val_loss did not improve from 0.07398\n",
      "651/651 [==============================] - 55s 85ms/step - loss: 0.1292 - accuracy: 0.9539 - val_loss: 0.1005 - val_accuracy: 0.9570\n",
      "Epoch 46/100\n",
      "651/651 [==============================] - ETA: 0s - loss: 0.1272 - accuracy: 0.9587\n",
      "Epoch 00046: val_loss did not improve from 0.07398\n",
      "651/651 [==============================] - 55s 85ms/step - loss: 0.1272 - accuracy: 0.9587 - val_loss: 0.0887 - val_accuracy: 0.9654\n",
      "Epoch 47/100\n",
      "651/651 [==============================] - ETA: 0s - loss: 0.1295 - accuracy: 0.9583\n",
      "Epoch 00047: val_loss did not improve from 0.07398\n",
      "651/651 [==============================] - 56s 85ms/step - loss: 0.1295 - accuracy: 0.9583 - val_loss: 0.0782 - val_accuracy: 0.9716\n",
      "Epoch 48/100\n",
      "651/651 [==============================] - ETA: 0s - loss: 0.1235 - accuracy: 0.9575\n",
      "Epoch 00048: val_loss improved from 0.07398 to 0.06132, saving model to modelos/raiox_model.h5\n",
      "651/651 [==============================] - 55s 85ms/step - loss: 0.1235 - accuracy: 0.9575 - val_loss: 0.0613 - val_accuracy: 0.9777\n",
      "Epoch 49/100\n",
      "651/651 [==============================] - ETA: 0s - loss: 0.1189 - accuracy: 0.9600\n",
      "Epoch 00049: val_loss did not improve from 0.06132\n",
      "651/651 [==============================] - 55s 84ms/step - loss: 0.1189 - accuracy: 0.9600 - val_loss: 0.0864 - val_accuracy: 0.9693\n",
      "Epoch 50/100\n",
      "651/651 [==============================] - ETA: 0s - loss: 0.1173 - accuracy: 0.9600\n",
      "Epoch 00050: val_loss did not improve from 0.06132\n",
      "651/651 [==============================] - 55s 84ms/step - loss: 0.1173 - accuracy: 0.9600 - val_loss: 0.0798 - val_accuracy: 0.9708\n",
      "Epoch 51/100\n",
      "651/651 [==============================] - ETA: 0s - loss: 0.1207 - accuracy: 0.9564\n",
      "Epoch 00051: val_loss did not improve from 0.06132\n",
      "651/651 [==============================] - 55s 85ms/step - loss: 0.1207 - accuracy: 0.9564 - val_loss: 0.1105 - val_accuracy: 0.9470\n",
      "Epoch 52/100\n",
      "651/651 [==============================] - ETA: 0s - loss: 0.1225 - accuracy: 0.9562\n",
      "Epoch 00052: val_loss did not improve from 0.06132\n",
      "651/651 [==============================] - 55s 85ms/step - loss: 0.1225 - accuracy: 0.9562 - val_loss: 0.0966 - val_accuracy: 0.9624\n",
      "Epoch 53/100\n",
      "651/651 [==============================] - ETA: 0s - loss: 0.1142 - accuracy: 0.9614\n",
      "Epoch 00053: val_loss did not improve from 0.06132\n",
      "651/651 [==============================] - 55s 85ms/step - loss: 0.1142 - accuracy: 0.9614 - val_loss: 0.0659 - val_accuracy: 0.9762\n",
      "Epoch 54/100\n",
      "651/651 [==============================] - ETA: 0s - loss: 0.1136 - accuracy: 0.9633\n",
      "Epoch 00054: val_loss did not improve from 0.06132\n",
      "651/651 [==============================] - 55s 85ms/step - loss: 0.1136 - accuracy: 0.9633 - val_loss: 0.0718 - val_accuracy: 0.9739\n",
      "Epoch 55/100\n",
      "651/651 [==============================] - ETA: 0s - loss: 0.1058 - accuracy: 0.9635\n",
      "Epoch 00055: val_loss did not improve from 0.06132\n",
      "651/651 [==============================] - 55s 84ms/step - loss: 0.1058 - accuracy: 0.9635 - val_loss: 0.0708 - val_accuracy: 0.9739\n"
     ]
    },
    {
     "name": "stdout",
     "output_type": "stream",
     "text": [
      "Epoch 56/100\n",
      "651/651 [==============================] - ETA: 0s - loss: 0.1103 - accuracy: 0.9645\n",
      "Epoch 00056: val_loss did not improve from 0.06132\n",
      "651/651 [==============================] - 55s 85ms/step - loss: 0.1103 - accuracy: 0.9645 - val_loss: 0.0844 - val_accuracy: 0.9654\n",
      "Epoch 57/100\n",
      "651/651 [==============================] - ETA: 0s - loss: 0.1179 - accuracy: 0.9597\n",
      "Epoch 00057: val_loss did not improve from 0.06132\n",
      "651/651 [==============================] - 55s 85ms/step - loss: 0.1179 - accuracy: 0.9597 - val_loss: 0.0632 - val_accuracy: 0.9777\n",
      "Epoch 58/100\n",
      "651/651 [==============================] - ETA: 0s - loss: 0.1161 - accuracy: 0.9599\n",
      "Epoch 00058: val_loss did not improve from 0.06132\n",
      "651/651 [==============================] - 55s 85ms/step - loss: 0.1161 - accuracy: 0.9599 - val_loss: 0.0727 - val_accuracy: 0.9731\n",
      "Epoch 59/100\n",
      "651/651 [==============================] - ETA: 0s - loss: 0.1126 - accuracy: 0.9624\n",
      "Epoch 00059: val_loss did not improve from 0.06132\n",
      "651/651 [==============================] - 56s 85ms/step - loss: 0.1126 - accuracy: 0.9624 - val_loss: 0.0763 - val_accuracy: 0.9685\n",
      "Epoch 60/100\n",
      "651/651 [==============================] - ETA: 0s - loss: 0.1137 - accuracy: 0.9627\n",
      "Epoch 00060: val_loss did not improve from 0.06132\n",
      "651/651 [==============================] - 55s 85ms/step - loss: 0.1137 - accuracy: 0.9627 - val_loss: 0.0675 - val_accuracy: 0.9762\n",
      "Epoch 61/100\n",
      "651/651 [==============================] - ETA: 0s - loss: 0.0972 - accuracy: 0.9681\n",
      "Epoch 00061: val_loss did not improve from 0.06132\n",
      "651/651 [==============================] - 55s 85ms/step - loss: 0.0972 - accuracy: 0.9681 - val_loss: 0.0758 - val_accuracy: 0.9716\n",
      "Epoch 62/100\n",
      "651/651 [==============================] - ETA: 0s - loss: 0.1022 - accuracy: 0.9643\n",
      "Epoch 00062: val_loss did not improve from 0.06132\n",
      "651/651 [==============================] - 55s 85ms/step - loss: 0.1022 - accuracy: 0.9643 - val_loss: 0.0725 - val_accuracy: 0.9708\n",
      "Epoch 63/100\n",
      "651/651 [==============================] - ETA: 0s - loss: 0.1073 - accuracy: 0.9624\n",
      "Epoch 00063: val_loss improved from 0.06132 to 0.05933, saving model to modelos/raiox_model.h5\n",
      "651/651 [==============================] - 56s 86ms/step - loss: 0.1073 - accuracy: 0.9624 - val_loss: 0.0593 - val_accuracy: 0.9770\n",
      "Epoch 64/100\n",
      "651/651 [==============================] - ETA: 0s - loss: 0.1012 - accuracy: 0.9691\n",
      "Epoch 00064: val_loss did not improve from 0.05933\n",
      "651/651 [==============================] - 55s 85ms/step - loss: 0.1012 - accuracy: 0.9691 - val_loss: 0.1042 - val_accuracy: 0.9616\n",
      "Epoch 65/100\n",
      "651/651 [==============================] - ETA: 0s - loss: 0.1040 - accuracy: 0.9679\n",
      "Epoch 00065: val_loss did not improve from 0.05933\n",
      "651/651 [==============================] - 55s 85ms/step - loss: 0.1040 - accuracy: 0.9679 - val_loss: 0.0596 - val_accuracy: 0.9785\n",
      "Epoch 66/100\n",
      "651/651 [==============================] - ETA: 0s - loss: 0.1033 - accuracy: 0.9666\n",
      "Epoch 00066: val_loss did not improve from 0.05933\n",
      "651/651 [==============================] - 55s 84ms/step - loss: 0.1033 - accuracy: 0.9666 - val_loss: 0.0602 - val_accuracy: 0.9770\n",
      "Epoch 67/100\n",
      "651/651 [==============================] - ETA: 0s - loss: 0.1072 - accuracy: 0.9645\n",
      "Epoch 00067: val_loss did not improve from 0.05933\n",
      "651/651 [==============================] - 55s 85ms/step - loss: 0.1072 - accuracy: 0.9645 - val_loss: 0.0630 - val_accuracy: 0.9754\n",
      "Epoch 68/100\n",
      "651/651 [==============================] - ETA: 0s - loss: 0.1014 - accuracy: 0.9658\n",
      "Epoch 00068: val_loss did not improve from 0.05933\n",
      "651/651 [==============================] - 55s 85ms/step - loss: 0.1014 - accuracy: 0.9658 - val_loss: 0.1068 - val_accuracy: 0.9539\n",
      "Epoch 69/100\n",
      "651/651 [==============================] - ETA: 0s - loss: 0.1015 - accuracy: 0.9677\n",
      "Epoch 00069: val_loss did not improve from 0.05933\n",
      "651/651 [==============================] - 55s 85ms/step - loss: 0.1015 - accuracy: 0.9677 - val_loss: 0.0837 - val_accuracy: 0.9685\n",
      "Epoch 70/100\n",
      "651/651 [==============================] - ETA: 0s - loss: 0.0968 - accuracy: 0.9691\n",
      "Epoch 00070: val_loss did not improve from 0.05933\n",
      "651/651 [==============================] - 55s 84ms/step - loss: 0.0968 - accuracy: 0.9691 - val_loss: 0.0694 - val_accuracy: 0.9747\n",
      "Epoch 71/100\n",
      "651/651 [==============================] - ETA: 0s - loss: 0.0964 - accuracy: 0.9691\n",
      "Epoch 00071: val_loss did not improve from 0.05933\n",
      "651/651 [==============================] - 55s 85ms/step - loss: 0.0964 - accuracy: 0.9691 - val_loss: 0.2025 - val_accuracy: 0.9147\n",
      "Epoch 72/100\n",
      "651/651 [==============================] - ETA: 0s - loss: 0.0989 - accuracy: 0.9689\n",
      "Epoch 00072: val_loss did not improve from 0.05933\n",
      "651/651 [==============================] - 55s 84ms/step - loss: 0.0989 - accuracy: 0.9689 - val_loss: 0.0672 - val_accuracy: 0.9747\n",
      "Epoch 73/100\n",
      "651/651 [==============================] - ETA: 0s - loss: 0.0940 - accuracy: 0.9712\n",
      "Epoch 00073: val_loss did not improve from 0.05933\n",
      "651/651 [==============================] - 55s 85ms/step - loss: 0.0940 - accuracy: 0.9712 - val_loss: 0.1498 - val_accuracy: 0.9370\n",
      "Epoch 74/100\n",
      "651/651 [==============================] - ETA: 0s - loss: 0.0958 - accuracy: 0.9679\n",
      "Epoch 00074: val_loss did not improve from 0.05933\n",
      "651/651 [==============================] - 55s 85ms/step - loss: 0.0958 - accuracy: 0.9679 - val_loss: 0.0920 - val_accuracy: 0.9593\n",
      "Epoch 75/100\n",
      "651/651 [==============================] - ETA: 0s - loss: 0.0948 - accuracy: 0.9673\n",
      "Epoch 00075: val_loss did not improve from 0.05933\n",
      "651/651 [==============================] - 55s 85ms/step - loss: 0.0948 - accuracy: 0.9673 - val_loss: 0.0834 - val_accuracy: 0.9677\n",
      "Epoch 76/100\n",
      "651/651 [==============================] - ETA: 0s - loss: 0.0963 - accuracy: 0.9689\n",
      "Epoch 00076: val_loss did not improve from 0.05933\n",
      "651/651 [==============================] - 55s 84ms/step - loss: 0.0963 - accuracy: 0.9689 - val_loss: 0.0617 - val_accuracy: 0.9762\n",
      "Epoch 77/100\n",
      "651/651 [==============================] - ETA: 0s - loss: 0.0906 - accuracy: 0.9706\n",
      "Epoch 00077: val_loss did not improve from 0.05933\n",
      "651/651 [==============================] - 55s 85ms/step - loss: 0.0906 - accuracy: 0.9706 - val_loss: 0.0610 - val_accuracy: 0.9747\n",
      "Epoch 78/100\n",
      "651/651 [==============================] - ETA: 0s - loss: 0.0952 - accuracy: 0.9697\n",
      "Epoch 00078: val_loss did not improve from 0.05933\n",
      "\n",
      "Epoch 00078: ReduceLROnPlateau reducing learning rate to 1e-07.\n",
      "651/651 [==============================] - 55s 85ms/step - loss: 0.0952 - accuracy: 0.9697 - val_loss: 0.0867 - val_accuracy: 0.9624\n",
      "Epoch 79/100\n",
      "651/651 [==============================] - ETA: 0s - loss: 0.0833 - accuracy: 0.9758\n",
      "Epoch 00079: val_loss did not improve from 0.05933\n",
      "651/651 [==============================] - 55s 85ms/step - loss: 0.0833 - accuracy: 0.9758 - val_loss: 0.0673 - val_accuracy: 0.9731\n",
      "Epoch 80/100\n",
      "651/651 [==============================] - ETA: 0s - loss: 0.0784 - accuracy: 0.9762\n",
      "Epoch 00080: val_loss improved from 0.05933 to 0.05784, saving model to modelos/raiox_model.h5\n",
      "651/651 [==============================] - 56s 85ms/step - loss: 0.0784 - accuracy: 0.9762 - val_loss: 0.0578 - val_accuracy: 0.9770\n",
      "Epoch 81/100\n",
      "651/651 [==============================] - ETA: 0s - loss: 0.0791 - accuracy: 0.9771\n",
      "Epoch 00081: val_loss improved from 0.05784 to 0.04868, saving model to modelos/raiox_model.h5\n",
      "651/651 [==============================] - 56s 86ms/step - loss: 0.0791 - accuracy: 0.9771 - val_loss: 0.0487 - val_accuracy: 0.9800\n",
      "Epoch 82/100\n",
      "651/651 [==============================] - ETA: 0s - loss: 0.0763 - accuracy: 0.9739\n",
      "Epoch 00082: val_loss did not improve from 0.04868\n",
      "651/651 [==============================] - 55s 85ms/step - loss: 0.0763 - accuracy: 0.9739 - val_loss: 0.0540 - val_accuracy: 0.9777\n",
      "Epoch 83/100\n",
      "651/651 [==============================] - ETA: 0s - loss: 0.0743 - accuracy: 0.9779\n",
      "Epoch 00083: val_loss did not improve from 0.04868\n",
      "651/651 [==============================] - 55s 85ms/step - loss: 0.0743 - accuracy: 0.9779 - val_loss: 0.0560 - val_accuracy: 0.9777\n",
      "Epoch 84/100\n",
      "651/651 [==============================] - ETA: 0s - loss: 0.0756 - accuracy: 0.9764\n",
      "Epoch 00084: val_loss did not improve from 0.04868\n",
      "651/651 [==============================] - 55s 85ms/step - loss: 0.0756 - accuracy: 0.9764 - val_loss: 0.0516 - val_accuracy: 0.9777\n"
     ]
    },
    {
     "name": "stdout",
     "output_type": "stream",
     "text": [
      "Epoch 85/100\n",
      "651/651 [==============================] - ETA: 0s - loss: 0.0713 - accuracy: 0.9768\n",
      "Epoch 00085: val_loss did not improve from 0.04868\n",
      "651/651 [==============================] - 55s 85ms/step - loss: 0.0713 - accuracy: 0.9768 - val_loss: 0.0569 - val_accuracy: 0.9777\n",
      "Epoch 86/100\n",
      "651/651 [==============================] - ETA: 0s - loss: 0.0794 - accuracy: 0.9777\n",
      "Epoch 00086: val_loss did not improve from 0.04868\n",
      "651/651 [==============================] - 55s 85ms/step - loss: 0.0794 - accuracy: 0.9777 - val_loss: 0.0570 - val_accuracy: 0.9785\n",
      "Epoch 87/100\n",
      "651/651 [==============================] - ETA: 0s - loss: 0.0719 - accuracy: 0.9771\n",
      "Epoch 00087: val_loss improved from 0.04868 to 0.04721, saving model to modelos/raiox_model.h5\n",
      "651/651 [==============================] - 56s 86ms/step - loss: 0.0719 - accuracy: 0.9771 - val_loss: 0.0472 - val_accuracy: 0.9816\n",
      "Epoch 88/100\n",
      "651/651 [==============================] - ETA: 0s - loss: 0.0755 - accuracy: 0.9768\n",
      "Epoch 00088: val_loss did not improve from 0.04721\n",
      "651/651 [==============================] - 55s 85ms/step - loss: 0.0755 - accuracy: 0.9768 - val_loss: 0.0535 - val_accuracy: 0.9793\n",
      "Epoch 89/100\n",
      "651/651 [==============================] - ETA: 0s - loss: 0.0706 - accuracy: 0.9773\n",
      "Epoch 00089: val_loss did not improve from 0.04721\n",
      "651/651 [==============================] - 55s 85ms/step - loss: 0.0706 - accuracy: 0.9773 - val_loss: 0.0601 - val_accuracy: 0.9762\n",
      "Epoch 90/100\n",
      "651/651 [==============================] - ETA: 0s - loss: 0.0766 - accuracy: 0.9746\n",
      "Epoch 00090: val_loss did not improve from 0.04721\n",
      "651/651 [==============================] - 55s 85ms/step - loss: 0.0766 - accuracy: 0.9746 - val_loss: 0.0503 - val_accuracy: 0.9816\n",
      "Epoch 91/100\n",
      "651/651 [==============================] - ETA: 0s - loss: 0.0756 - accuracy: 0.9752\n",
      "Epoch 00091: val_loss improved from 0.04721 to 0.04681, saving model to modelos/raiox_model.h5\n",
      "651/651 [==============================] - 56s 85ms/step - loss: 0.0756 - accuracy: 0.9752 - val_loss: 0.0468 - val_accuracy: 0.9808\n",
      "Epoch 92/100\n",
      "651/651 [==============================] - ETA: 0s - loss: 0.0729 - accuracy: 0.9785\n",
      "Epoch 00092: val_loss improved from 0.04681 to 0.04662, saving model to modelos/raiox_model.h5\n",
      "651/651 [==============================] - 55s 85ms/step - loss: 0.0729 - accuracy: 0.9785 - val_loss: 0.0466 - val_accuracy: 0.9816\n",
      "Epoch 93/100\n",
      "651/651 [==============================] - ETA: 0s - loss: 0.0736 - accuracy: 0.9769\n",
      "Epoch 00093: val_loss did not improve from 0.04662\n",
      "651/651 [==============================] - 55s 85ms/step - loss: 0.0736 - accuracy: 0.9769 - val_loss: 0.0705 - val_accuracy: 0.9708\n",
      "Epoch 94/100\n",
      "651/651 [==============================] - ETA: 0s - loss: 0.0786 - accuracy: 0.9791\n",
      "Epoch 00094: val_loss improved from 0.04662 to 0.04544, saving model to modelos/raiox_model.h5\n",
      "651/651 [==============================] - 56s 86ms/step - loss: 0.0786 - accuracy: 0.9791 - val_loss: 0.0454 - val_accuracy: 0.9808\n",
      "Epoch 95/100\n",
      "651/651 [==============================] - ETA: 0s - loss: 0.0740 - accuracy: 0.9754\n",
      "Epoch 00095: val_loss did not improve from 0.04544\n",
      "651/651 [==============================] - 56s 85ms/step - loss: 0.0740 - accuracy: 0.9754 - val_loss: 0.0572 - val_accuracy: 0.9762\n",
      "Epoch 96/100\n",
      "651/651 [==============================] - ETA: 0s - loss: 0.0686 - accuracy: 0.9794\n",
      "Epoch 00096: val_loss did not improve from 0.04544\n",
      "651/651 [==============================] - 55s 85ms/step - loss: 0.0686 - accuracy: 0.9794 - val_loss: 0.0690 - val_accuracy: 0.9716\n",
      "Epoch 97/100\n",
      "651/651 [==============================] - ETA: 0s - loss: 0.0715 - accuracy: 0.9764\n",
      "Epoch 00097: val_loss did not improve from 0.04544\n",
      "651/651 [==============================] - 55s 85ms/step - loss: 0.0715 - accuracy: 0.9764 - val_loss: 0.0520 - val_accuracy: 0.9808\n",
      "Epoch 98/100\n",
      "651/651 [==============================] - ETA: 0s - loss: 0.0696 - accuracy: 0.9783\n",
      "Epoch 00098: val_loss did not improve from 0.04544\n",
      "651/651 [==============================] - 56s 85ms/step - loss: 0.0696 - accuracy: 0.9783 - val_loss: 0.0458 - val_accuracy: 0.9831\n",
      "Epoch 99/100\n",
      "651/651 [==============================] - ETA: 0s - loss: 0.0730 - accuracy: 0.9752\n",
      "Epoch 00099: val_loss did not improve from 0.04544\n",
      "651/651 [==============================] - 55s 85ms/step - loss: 0.0730 - accuracy: 0.9752 - val_loss: 0.0496 - val_accuracy: 0.9816\n",
      "Epoch 100/100\n",
      "651/651 [==============================] - ETA: 0s - loss: 0.0679 - accuracy: 0.9791\n",
      "Epoch 00100: val_loss did not improve from 0.04544\n",
      "651/651 [==============================] - 56s 86ms/step - loss: 0.0679 - accuracy: 0.9791 - val_loss: 0.0534 - val_accuracy: 0.9793\n"
     ]
    }
   ],
   "source": [
    "# Treinamento do modelo\n",
    "history = modelo_final.fit(dados_treino, \n",
    "                    steps_per_epoch = passos_treino, \n",
    "                    validation_data = dados_valid,\n",
    "                    validation_steps = passos_val,\n",
    "                    epochs = 100, \n",
    "                    verbose = 1,\n",
    "                    callbacks = lista_callbacks)"
   ]
  },
  {
   "cell_type": "markdown",
   "id": "70e333e1",
   "metadata": {},
   "source": [
    "### Avaliação do Modelo"
   ]
  },
  {
   "cell_type": "code",
   "execution_count": 138,
   "id": "3a2a49b9",
   "metadata": {},
   "outputs": [
    {
     "data": {
      "image/png": "[encoded data removed]",
      "text/plain": [
       "<Figure size 576x576 with 1 Axes>"
      ]
     },
     "metadata": {
      "needs_background": "light"
     },
     "output_type": "display_data"
    }
   ],
   "source": [
    "# Resultado do Treinamento\n",
    "plt.figure(figsize = (8, 8))\n",
    "plt.title(\"Curva de Aprendizado\")\n",
    "plt.plot(history.history[\"loss\"], label = \"Erro em Treino\")\n",
    "plt.plot(history.history[\"val_loss\"], label = \"Erro em Validação\")\n",
    "plt.plot(np.argmin(history.history[\"val_loss\"]), \n",
    "         np.min(history.history[\"val_loss\"]), \n",
    "         marker =\"x\", \n",
    "         color = \"r\", \n",
    "         label = \"Performance do Melhor Modelo\")\n",
    "plt.xlabel(\"Epochs\")\n",
    "plt.ylabel(\"Erro\")\n",
    "plt.legend();"
   ]
  },
  {
   "cell_type": "code",
   "execution_count": 139,
   "id": "3dfbc52b",
   "metadata": {},
   "outputs": [
    {
     "data": {
      "image/png": "[encoded data removed]",
      "text/plain": [
       "<Figure size 576x576 with 1 Axes>"
      ]
     },
     "metadata": {
      "needs_background": "light"
     },
     "output_type": "display_data"
    }
   ],
   "source": [
    "# Resultado do Treinamento\n",
    "plt.figure(figsize = (8, 8))\n",
    "plt.title(\"Curva de Aprendizado\")\n",
    "plt.plot(history.history[\"accuracy\"], label = \"Accuracy em Treino\")\n",
    "plt.plot(history.history[\"val_accuracy\"], label = \"Accuracy em Validação\")\n",
    "plt.plot(np.argmin(history.history[\"val_loss\"]), \n",
    "         np.min(history.history[\"val_loss\"]), \n",
    "         marker =\"x\", \n",
    "         color = \"r\", \n",
    "         label = \"Performance do Melhor Modelo\")\n",
    "plt.xlabel(\"Epochs\")\n",
    "plt.ylabel(\"Erro\")\n",
    "plt.legend();"
   ]
  },
  {
   "cell_type": "markdown",
   "id": "40061e46",
   "metadata": {},
   "source": [
    "#### Modelo"
   ]
  },
  {
   "cell_type": "code",
   "execution_count": 140,
   "id": "f7229f0c",
   "metadata": {},
   "outputs": [],
   "source": [
    "# Carregamos o modelo treinado\n",
    "model =  tf.keras.models.load_model('modelos/raiox_model.h5')"
   ]
  },
  {
   "cell_type": "code",
   "execution_count": 141,
   "id": "f3e3545d",
   "metadata": {},
   "outputs": [
    {
     "name": "stdout",
     "output_type": "stream",
     "text": [
      "724/724 [==============================] - 4s 6ms/step - loss: 0.0552 - accuracy: 0.9724\n"
     ]
    }
   ],
   "source": [
    "# Extraímos as métricas\n",
    "val_loss, val_acc = model.evaluate(dados_teste, steps = 724)"
   ]
  },
  {
   "cell_type": "markdown",
   "id": "3b62e699",
   "metadata": {},
   "source": [
    "### Previsões nos dados de teste"
   ]
  },
  {
   "cell_type": "code",
   "execution_count": 142,
   "id": "f8364501",
   "metadata": {},
   "outputs": [],
   "source": [
    "# Vamos obter os labels dos dados de teste\n",
    "labels_teste = dados_teste.classes"
   ]
  },
  {
   "cell_type": "code",
   "execution_count": 143,
   "id": "6065f085",
   "metadata": {},
   "outputs": [
    {
     "data": {
      "text/plain": [
       "(724,)"
      ]
     },
     "execution_count": 143,
     "metadata": {},
     "output_type": "execute_result"
    }
   ],
   "source": [
    "# Precisamos dos labels para o plot da matriz de confusão\n",
    "labels_teste.shape"
   ]
  },
  {
   "cell_type": "code",
   "execution_count": 144,
   "id": "04fae74d",
   "metadata": {},
   "outputs": [
    {
     "data": {
      "text/plain": [
       "{'Covid': 0, 'Normal': 1}"
      ]
     },
     "execution_count": 144,
     "metadata": {},
     "output_type": "execute_result"
    }
   ],
   "source": [
    "# Imprimimos a etiqueta (label) associada a cada classe\n",
    "dados_teste.class_indices"
   ]
  },
  {
   "cell_type": "code",
   "execution_count": 145,
   "id": "f3f25bbb",
   "metadata": {},
   "outputs": [
    {
     "name": "stdout",
     "output_type": "stream",
     "text": [
      "724/724 [==============================] - 3s 4ms/step\n"
     ]
    }
   ],
   "source": [
    "# Fazemos as previsões\n",
    "previsoes = model.predict(dados_teste, steps = 724, verbose = 1)"
   ]
  },
  {
   "cell_type": "code",
   "execution_count": 146,
   "id": "74f46956",
   "metadata": {},
   "outputs": [
    {
     "data": {
      "text/plain": [
       "(724, 2)"
      ]
     },
     "execution_count": 146,
     "metadata": {},
     "output_type": "execute_result"
    }
   ],
   "source": [
    "# Shape das previsões\n",
    "previsoes.shape"
   ]
  },
  {
   "cell_type": "markdown",
   "id": "04611f99",
   "metadata": {},
   "source": [
    "#### Matriz de confusão"
   ]
  },
  {
   "cell_type": "code",
   "execution_count": 147,
   "id": "d4158aed",
   "metadata": {},
   "outputs": [],
   "source": [
    "# Função para a Matriz de Confusão\n",
    "def plot_confusion_matrix(cm, \n",
    "                          classes,\n",
    "                          normalize = False,\n",
    "                          title = 'Matriz de Confusão',\n",
    "                          cmap = plt.cm.Blues):\n",
    "\n",
    "    # Se normalize = True, obtemos a matriz de confusão com dados normalizados\n",
    "    if normalize:\n",
    "        cm = cm.astype('float') / cm.sum(axis = 1)[:, np.newaxis]\n",
    "        print(\"Matriz de Confusão Normalizada\")\n",
    "    else:\n",
    "        print('Matriz de Confusão Sem Normalização')\n",
    "\n",
    "    # Mostramos a Matriz de Confusão\n",
    "    print(cm)\n",
    "\n",
    "    # Plot\n",
    "    plt.imshow(cm, interpolation = 'nearest', cmap = cmap)\n",
    "    plt.title(title)\n",
    "    plt.colorbar()\n",
    "    tick_marks = np.arange(len(classes))\n",
    "    plt.xticks(tick_marks, classes, rotation = 45)\n",
    "    plt.yticks(tick_marks, classes)\n",
    "    fmt = '.2f' if normalize else 'd'\n",
    "    thresh = cm.max() / 2.\n",
    "    \n",
    "    # Plot do texto\n",
    "    for i, j in itertools.product(range(cm.shape[0]), range(cm.shape[1])):\n",
    "        plt.text(j, i, format(cm[i, j], fmt), \n",
    "                 horizontalalignment = \"center\",\n",
    "                 color = \"white\" if cm[i, j] > thresh else \"black\")\n",
    "\n",
    "    plt.ylabel('Label Verdadeiro')\n",
    "    plt.xlabel('Label Previsto')\n",
    "    plt.tight_layout()"
   ]
  },
  {
   "cell_type": "code",
   "execution_count": 148,
   "id": "f0258d1e",
   "metadata": {},
   "outputs": [],
   "source": [
    "# A função argmax() retorna o índice do valor máximo em uma linha\n",
    "matriz_conf = confusion_matrix(labels_teste, previsoes.argmax(axis = 1))"
   ]
  },
  {
   "cell_type": "code",
   "execution_count": 149,
   "id": "f7d56847",
   "metadata": {},
   "outputs": [
    {
     "data": {
      "text/plain": [
       "{'Covid': 0, 'Normal': 1}"
      ]
     },
     "execution_count": 149,
     "metadata": {},
     "output_type": "execute_result"
    }
   ],
   "source": [
    "# Labels dos dados de teste\n",
    "dados_teste.class_indices"
   ]
  },
  {
   "cell_type": "code",
   "execution_count": 150,
   "id": "c9c02415",
   "metadata": {},
   "outputs": [],
   "source": [
    "# Definimos os rótulos dos labels da classe. Eles precisam corresponder a ordem mostrada acima.\n",
    "matriz_conf_plot_labels = ['COVID', 'Normal']"
   ]
  },
  {
   "cell_type": "code",
   "execution_count": 151,
   "id": "fb974230",
   "metadata": {},
   "outputs": [
    {
     "name": "stdout",
     "output_type": "stream",
     "text": [
      "Matriz de Confusão Sem Normalização\n",
      "[[345  17]\n",
      " [  3 359]]\n"
     ]
    },
    {
     "data": {
      "image/png": "[encoded data removed]",
      "text/plain": [
       "<Figure size 432x288 with 2 Axes>"
      ]
     },
     "metadata": {
      "needs_background": "light"
     },
     "output_type": "display_data"
    }
   ],
   "source": [
    "# E então criamos o plot\n",
    "plot_confusion_matrix(matriz_conf, matriz_conf_plot_labels, title = 'Matriz de Confusão')"
   ]
  },
  {
   "cell_type": "markdown",
   "id": "298a2d76",
   "metadata": {},
   "source": [
    "#### Relatório de Classificação"
   ]
  },
  {
   "cell_type": "code",
   "execution_count": 152,
   "id": "40bbeda8",
   "metadata": {},
   "outputs": [],
   "source": [
    "# Geramos a sequência na qual o gerador processou as imagens de teste\n",
    "imagens_teste = dados_teste.filenames"
   ]
  },
  {
   "cell_type": "code",
   "execution_count": 153,
   "id": "b8be4369",
   "metadata": {},
   "outputs": [],
   "source": [
    "# Obtemos os rótulos verdadeiros\n",
    "y_true = dados_teste.classes"
   ]
  },
  {
   "cell_type": "code",
   "execution_count": 154,
   "id": "ab0a0236",
   "metadata": {},
   "outputs": [],
   "source": [
    "# Obtemos os rótulos previstos\n",
    "y_pred = previsoes.argmax(axis=1)"
   ]
  },
  {
   "cell_type": "code",
   "execution_count": 155,
   "id": "1c9ec2b0",
   "metadata": {},
   "outputs": [
    {
     "name": "stdout",
     "output_type": "stream",
     "text": [
      "              precision    recall  f1-score   support\n",
      "\n",
      "       COVID       0.99      0.95      0.97       362\n",
      "      Normal       0.95      0.99      0.97       362\n",
      "\n",
      "    accuracy                           0.97       724\n",
      "   macro avg       0.97      0.97      0.97       724\n",
      "weighted avg       0.97      0.97      0.97       724\n",
      "\n"
     ]
    }
   ],
   "source": [
    "# Gera o relatório de classificação\n",
    "report = classification_report(y_true, y_pred, target_names = matriz_conf_plot_labels)\n",
    "print(report)"
   ]
  },
  {
   "cell_type": "markdown",
   "id": "e833b05c",
   "metadata": {},
   "source": [
    "#### Avaliação com várias métricas de desempenho "
   ]
  },
  {
   "cell_type": "code",
   "execution_count": 160,
   "id": "2739f915",
   "metadata": {},
   "outputs": [
    {
     "name": "stdout",
     "output_type": "stream",
     "text": [
      "IOU: 1.00\n",
      "\n",
      "AUC: 1.00\n",
      "\n",
      "Precision: 1.00\n",
      "\n",
      "Recall: 1.00\n",
      "\n",
      "F1-Score: 1.00\n",
      "\n",
      "Sensitivity: 1.00\n",
      "\n",
      "Specificity: 1.00\n",
      "\n",
      "------------------------------------------------------- \n",
      "\n",
      "              precision    recall  f1-score   support\n",
      "\n",
      "       False       1.00      1.00      1.00         1\n",
      "        True       1.00      1.00      1.00         1\n",
      "\n",
      "    accuracy                           1.00         2\n",
      "   macro avg       1.00      1.00      1.00         2\n",
      "weighted avg       1.00      1.00      1.00         2\n",
      "\n"
     ]
    }
   ],
   "source": [
    "# Avaliação do modelo com 1 batch de dados de teste e 1 estágio do modelo U-Net++\n",
    "for x_test, y_test in dados_teste:\n",
    "    break\n",
    "\n",
    "# Previsão do modelo\n",
    "y_pred = model.predict(x_test)[0] # Primeira etapa do modelo\n",
    "        \n",
    "# Cutoff\n",
    "y_true = (y_test > 0.5).flatten()\n",
    "y_pred = (y_pred > 0.5).flatten()\n",
    "\n",
    "# Relatório de classificação\n",
    "report = classification_report(y_true, y_pred, output_dict=True)\n",
    "\n",
    "# Métricas de classificação\n",
    "Precision = report['True']['precision']\n",
    "Recall = report['True']['recall']\n",
    "F1_score = report['True']['f1-score']\n",
    "Sensitivity = Recall\n",
    "Specificity = report['False']['recall']\n",
    "IOU = (Precision * Recall) / (Precision + Recall - Precision * Recall)\n",
    "AUC = roc_auc_score(y_true.flatten(), y_pred.flatten())\n",
    "\n",
    "# Print\n",
    "print(\"IOU: {0:.2f}\\n\".format(IOU))\n",
    "print(\"AUC: {0:.2f}\\n\".format(AUC))\n",
    "print(\"Precision: {0:.2f}\\n\".format(Precision))\n",
    "print(\"Recall: {0:.2f}\\n\".format(Recall))\n",
    "print(\"F1-Score: {0:.2f}\\n\".format(F1_score))\n",
    "print(\"Sensitivity: {0:.2f}\\n\".format(Sensitivity))\n",
    "print(\"Specificity: {0:.2f}\\n\".format(Specificity))\n",
    "print('-'*55,'\\n')\n",
    "print(classification_report(y_true, y_pred))"
   ]
  }
 ],
 "metadata": {
  "kernelspec": {
   "display_name": "Python 3 (ipykernel)",
   "language": "python",
   "name": "python3"
  },
  "language_info": {
   "codemirror_mode": {
    "name": "ipython",
    "version": 3
   },
   "file_extension": ".py",
   "mimetype": "text/x-python",
   "name": "python",
   "nbconvert_exporter": "python",
   "pygments_lexer": "ipython3",
   "version": "3.7.6"
  }
 },
 "nbformat": 4,
 "nbformat_minor": 5
}
